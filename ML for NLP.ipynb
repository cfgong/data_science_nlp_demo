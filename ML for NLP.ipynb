{
 "cells": [
  {
   "cell_type": "code",
   "execution_count": 64,
   "metadata": {},
   "outputs": [],
   "source": [
    "import numpy as np\n",
    "import pandas as pd\n",
    "\n",
    "import nltk\n",
    "import spacy\n",
    "\n",
    "import warnings\n",
    "warnings.filterwarnings('ignore')\n",
    "\n",
    "import seaborn as sns\n",
    "import matplotlib.pyplot as plt\n",
    "%matplotlib inline"
   ]
  },
  {
   "cell_type": "markdown",
   "metadata": {},
   "source": [
    "#### This notebook covers the basics of starting with text data and implementing machine learning algorithms that take that data as input and output predictions. \n",
    "\n",
    "#### Using scikitlearn, we will walk through:\n",
    "- Naive Bayes Classifier\n",
    "- Logistic Regression "
   ]
  },
  {
   "cell_type": "markdown",
   "metadata": {},
   "source": [
    "## Naive Bayes Classifier\n",
    "\n",
    "The naive bayes classifier uses Baye's rule to assign labels to input data, with the output as the label with the highest probability for a number of input features.\n",
    "\n",
    "### Steps:\n",
    "- Loading dataset\n",
    "- Visualization\n",
    "- Preprocessing\n",
    "- Model creation\n",
    "- Evaluation"
   ]
  },
  {
   "cell_type": "markdown",
   "metadata": {},
   "source": [
    "#### Loading the dataset"
   ]
  },
  {
   "cell_type": "code",
   "execution_count": 65,
   "metadata": {},
   "outputs": [
    {
     "data": {
      "text/html": [
       "<div>\n",
       "<style scoped>\n",
       "    .dataframe tbody tr th:only-of-type {\n",
       "        vertical-align: middle;\n",
       "    }\n",
       "\n",
       "    .dataframe tbody tr th {\n",
       "        vertical-align: top;\n",
       "    }\n",
       "\n",
       "    .dataframe thead th {\n",
       "        text-align: right;\n",
       "    }\n",
       "</style>\n",
       "<table border=\"1\" class=\"dataframe\">\n",
       "  <thead>\n",
       "    <tr style=\"text-align: right;\">\n",
       "      <th></th>\n",
       "      <th>label</th>\n",
       "      <th>sms</th>\n",
       "    </tr>\n",
       "  </thead>\n",
       "  <tbody>\n",
       "    <tr>\n",
       "      <td>0</td>\n",
       "      <td>ham</td>\n",
       "      <td>Go until jurong point, crazy.. Available only ...</td>\n",
       "    </tr>\n",
       "    <tr>\n",
       "      <td>1</td>\n",
       "      <td>ham</td>\n",
       "      <td>Ok lar... Joking wif u oni...</td>\n",
       "    </tr>\n",
       "    <tr>\n",
       "      <td>2</td>\n",
       "      <td>spam</td>\n",
       "      <td>Free entry in 2 a wkly comp to win FA Cup fina...</td>\n",
       "    </tr>\n",
       "    <tr>\n",
       "      <td>3</td>\n",
       "      <td>ham</td>\n",
       "      <td>U dun say so early hor... U c already then say...</td>\n",
       "    </tr>\n",
       "    <tr>\n",
       "      <td>4</td>\n",
       "      <td>ham</td>\n",
       "      <td>Nah I don't think he goes to usf, he lives aro...</td>\n",
       "    </tr>\n",
       "  </tbody>\n",
       "</table>\n",
       "</div>"
      ],
      "text/plain": [
       "  label                                                sms\n",
       "0   ham  Go until jurong point, crazy.. Available only ...\n",
       "1   ham                      Ok lar... Joking wif u oni...\n",
       "2  spam  Free entry in 2 a wkly comp to win FA Cup fina...\n",
       "3   ham  U dun say so early hor... U c already then say...\n",
       "4   ham  Nah I don't think he goes to usf, he lives aro..."
      ]
     },
     "execution_count": 65,
     "metadata": {},
     "output_type": "execute_result"
    }
   ],
   "source": [
    "df_sms = pd.read_csv('data/spam.csv',encoding='latin-1')\n",
    "df_sms = df_sms.drop([\"Unnamed: 2\", \"Unnamed: 3\", \"Unnamed: 4\"], axis=1)\n",
    "df_sms = df_sms.rename(columns={\"v1\":\"label\", \"v2\":\"sms\"})\n",
    "df_sms.head()"
   ]
  },
  {
   "cell_type": "code",
   "execution_count": 66,
   "metadata": {},
   "outputs": [
    {
     "data": {
      "text/plain": [
       "ham     4825\n",
       "spam     747\n",
       "Name: label, dtype: int64"
      ]
     },
     "execution_count": 66,
     "metadata": {},
     "output_type": "execute_result"
    }
   ],
   "source": [
    "df_sms['label'].value_counts()"
   ]
  },
  {
   "cell_type": "code",
   "execution_count": 67,
   "metadata": {},
   "outputs": [],
   "source": [
    "df_sms['length'] = df_sms['sms'].apply(len)"
   ]
  },
  {
   "cell_type": "markdown",
   "metadata": {},
   "source": [
    "#### Visualization"
   ]
  },
  {
   "cell_type": "code",
   "execution_count": 68,
   "metadata": {},
   "outputs": [
    {
     "data": {
      "image/png": "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\n",
      "text/plain": [
       "<Figure size 432x288 with 1 Axes>"
      ]
     },
     "metadata": {
      "needs_background": "light"
     },
     "output_type": "display_data"
    }
   ],
   "source": [
    "sns.distplot(df_sms['length'])\n",
    "plt.show()"
   ]
  },
  {
   "cell_type": "code",
   "execution_count": 69,
   "metadata": {},
   "outputs": [
    {
     "data": {
<<<<<<< HEAD
      "image/png": "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\n",
=======
      "image/png": "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\n",
>>>>>>> 896565d87dd31a246ff5d984c2a76b1a0e7dd169
      "text/plain": [
       "<Figure size 720x288 with 2 Axes>"
      ]
     },
     "metadata": {
      "needs_background": "light"
     },
     "output_type": "display_data"
    }
   ],
   "source": [
    "df_sms.hist(column='length', by='label', bins=100,figsize=(10,4))\n",
    "plt.show()"
   ]
  },
  {
   "cell_type": "code",
   "execution_count": 70,
   "metadata": {},
   "outputs": [
    {
     "data": {
      "text/html": [
       "<div>\n",
       "<style scoped>\n",
       "    .dataframe tbody tr th:only-of-type {\n",
       "        vertical-align: middle;\n",
       "    }\n",
       "\n",
       "    .dataframe tbody tr th {\n",
       "        vertical-align: top;\n",
       "    }\n",
       "\n",
       "    .dataframe thead th {\n",
       "        text-align: right;\n",
       "    }\n",
       "</style>\n",
       "<table border=\"1\" class=\"dataframe\">\n",
       "  <thead>\n",
       "    <tr style=\"text-align: right;\">\n",
       "      <th></th>\n",
       "      <th>label</th>\n",
       "      <th>sms</th>\n",
       "      <th>length</th>\n",
       "    </tr>\n",
       "  </thead>\n",
       "  <tbody>\n",
       "    <tr>\n",
       "      <td>0</td>\n",
       "      <td>0</td>\n",
       "      <td>Go until jurong point, crazy.. Available only ...</td>\n",
       "      <td>111</td>\n",
       "    </tr>\n",
       "    <tr>\n",
       "      <td>1</td>\n",
       "      <td>0</td>\n",
       "      <td>Ok lar... Joking wif u oni...</td>\n",
       "      <td>29</td>\n",
       "    </tr>\n",
       "    <tr>\n",
       "      <td>2</td>\n",
       "      <td>1</td>\n",
       "      <td>Free entry in 2 a wkly comp to win FA Cup fina...</td>\n",
       "      <td>155</td>\n",
       "    </tr>\n",
       "    <tr>\n",
       "      <td>3</td>\n",
       "      <td>0</td>\n",
       "      <td>U dun say so early hor... U c already then say...</td>\n",
       "      <td>49</td>\n",
       "    </tr>\n",
       "    <tr>\n",
       "      <td>4</td>\n",
       "      <td>0</td>\n",
       "      <td>Nah I don't think he goes to usf, he lives aro...</td>\n",
       "      <td>61</td>\n",
       "    </tr>\n",
       "  </tbody>\n",
       "</table>\n",
       "</div>"
      ],
      "text/plain": [
       "   label                                                sms  length\n",
       "0      0  Go until jurong point, crazy.. Available only ...     111\n",
       "1      0                      Ok lar... Joking wif u oni...      29\n",
       "2      1  Free entry in 2 a wkly comp to win FA Cup fina...     155\n",
       "3      0  U dun say so early hor... U c already then say...      49\n",
       "4      0  Nah I don't think he goes to usf, he lives aro...      61"
      ]
     },
     "execution_count": 70,
     "metadata": {},
     "output_type": "execute_result"
    }
   ],
   "source": [
    "df_sms.loc[:,'label'] = df_sms.label.map({'ham':0, 'spam':1})\n",
    "df_sms.head()"
   ]
  },
  {
   "cell_type": "markdown",
   "metadata": {},
   "source": [
    "### Scikitlearn Count Vectorizer for Preprocessing\n",
    "\n",
    "Convert a collection of text documents to a matrix of token counts\n",
    "\n",
    "This implementation produces a sparse representation of the counts using scipy.sparse.csr_matrix.\n",
    "\n",
    "\n",
    "#### Steps:\n",
    "- Normalize to lower case\n",
    "- Remove punctuation\n",
    "- Tokenize\n",
    "- Stop word removal\n",
    "- Bag-of-words representation"
   ]
  },
  {
   "cell_type": "code",
   "execution_count": 71,
   "metadata": {},
   "outputs": [],
   "source": [
    "from nltk.corpus import stopwords\n",
    "stopWords = set(stopwords.words('english'))"
   ]
  },
  {
   "cell_type": "code",
   "execution_count": 72,
   "metadata": {},
   "outputs": [],
   "source": [
    "from sklearn.feature_extraction.text import CountVectorizer\n",
    "from sklearn.model_selection import train_test_split"
   ]
  },
  {
   "cell_type": "code",
   "execution_count": 73,
   "metadata": {},
   "outputs": [],
   "source": [
    "documents = [\"Hi Mom, happy Thanksgiving, I know I'm your favorite.\",\n",
    "            \"However, I never read rubrics when I do peer reviews.\",\n",
    "            \"Epstein did not kill himself!\"]"
   ]
  },
  {
   "cell_type": "code",
   "execution_count": 74,
   "metadata": {},
   "outputs": [
    {
     "data": {
      "text/plain": [
       "['epstein',\n",
       " 'favorite',\n",
       " 'happy',\n",
       " 'hi',\n",
       " 'however',\n",
       " 'kill',\n",
       " 'know',\n",
       " 'mom',\n",
       " 'never',\n",
       " 'peer',\n",
       " 'read',\n",
       " 'reviews',\n",
       " 'rubrics',\n",
       " 'thanksgiving']"
      ]
     },
     "execution_count": 74,
     "metadata": {},
     "output_type": "execute_result"
    }
   ],
   "source": [
    "count_vector = CountVectorizer(stop_words=stopWords)\n",
    "count_vector.fit(documents)\n",
    "count_vector.get_feature_names()"
   ]
  },
  {
   "cell_type": "code",
   "execution_count": 75,
   "metadata": {},
   "outputs": [
    {
     "data": {
      "text/html": [
       "<div>\n",
       "<style scoped>\n",
       "    .dataframe tbody tr th:only-of-type {\n",
       "        vertical-align: middle;\n",
       "    }\n",
       "\n",
       "    .dataframe tbody tr th {\n",
       "        vertical-align: top;\n",
       "    }\n",
       "\n",
       "    .dataframe thead th {\n",
       "        text-align: right;\n",
       "    }\n",
       "</style>\n",
       "<table border=\"1\" class=\"dataframe\">\n",
       "  <thead>\n",
       "    <tr style=\"text-align: right;\">\n",
       "      <th></th>\n",
       "      <th>epstein</th>\n",
       "      <th>favorite</th>\n",
       "      <th>happy</th>\n",
       "      <th>hi</th>\n",
       "      <th>however</th>\n",
       "      <th>kill</th>\n",
       "      <th>know</th>\n",
       "      <th>mom</th>\n",
       "      <th>never</th>\n",
       "      <th>peer</th>\n",
       "      <th>read</th>\n",
       "      <th>reviews</th>\n",
       "      <th>rubrics</th>\n",
       "      <th>thanksgiving</th>\n",
       "    </tr>\n",
       "  </thead>\n",
       "  <tbody>\n",
       "    <tr>\n",
       "      <td>0</td>\n",
       "      <td>0</td>\n",
       "      <td>1</td>\n",
       "      <td>1</td>\n",
       "      <td>1</td>\n",
       "      <td>0</td>\n",
       "      <td>0</td>\n",
       "      <td>1</td>\n",
       "      <td>1</td>\n",
       "      <td>0</td>\n",
       "      <td>0</td>\n",
       "      <td>0</td>\n",
       "      <td>0</td>\n",
       "      <td>0</td>\n",
       "      <td>1</td>\n",
       "    </tr>\n",
       "    <tr>\n",
       "      <td>1</td>\n",
       "      <td>0</td>\n",
       "      <td>0</td>\n",
       "      <td>0</td>\n",
       "      <td>0</td>\n",
       "      <td>1</td>\n",
       "      <td>0</td>\n",
       "      <td>0</td>\n",
       "      <td>0</td>\n",
       "      <td>1</td>\n",
       "      <td>1</td>\n",
       "      <td>1</td>\n",
       "      <td>1</td>\n",
       "      <td>1</td>\n",
       "      <td>0</td>\n",
       "    </tr>\n",
       "    <tr>\n",
       "      <td>2</td>\n",
       "      <td>1</td>\n",
       "      <td>0</td>\n",
       "      <td>0</td>\n",
       "      <td>0</td>\n",
       "      <td>0</td>\n",
       "      <td>1</td>\n",
       "      <td>0</td>\n",
       "      <td>0</td>\n",
       "      <td>0</td>\n",
       "      <td>0</td>\n",
       "      <td>0</td>\n",
       "      <td>0</td>\n",
       "      <td>0</td>\n",
       "      <td>0</td>\n",
       "    </tr>\n",
       "  </tbody>\n",
       "</table>\n",
       "</div>"
      ],
      "text/plain": [
       "   epstein  favorite  happy  hi  however  kill  know  mom  never  peer  read  \\\n",
       "0        0         1      1   1        0     0     1    1      0     0     0   \n",
       "1        0         0      0   0        1     0     0    0      1     1     1   \n",
       "2        1         0      0   0        0     1     0    0      0     0     0   \n",
       "\n",
       "   reviews  rubrics  thanksgiving  \n",
       "0        0        0             1  \n",
       "1        1        1             0  \n",
       "2        0        0             0  "
      ]
     },
     "execution_count": 75,
     "metadata": {},
     "output_type": "execute_result"
    }
   ],
   "source": [
    "#convert the set of documents into an array using count_vector.transform\n",
    "doc_array = count_vector.transform(documents).toarray()\n",
    "\n",
    "#convert doc_array to dataframe for visualization\n",
    "frequency_matrix = pd.DataFrame(doc_array, columns = count_vector.get_feature_names())\n",
    "frequency_matrix"
   ]
  },
  {
   "cell_type": "markdown",
   "metadata": {},
   "source": [
    "### Preprocessing the dataset\n",
    "Now lets apply the count vectorizer to our dataset as part of our pre-processing\n",
    "- Split the dataset into train and test subsets \n",
    "- Apply count vectorizer to both subset"
   ]
  },
  {
   "cell_type": "code",
   "execution_count": 77,
   "metadata": {},
   "outputs": [],
   "source": [
    "#train_test_split is used to split up our data into subsets for training and testing\n",
    "X_train, X_test, y_train, y_test = train_test_split(df_sms['sms'], df_sms['label'],test_size=0.20)\n",
    "\n",
    "count_vector = CountVectorizer()\n",
    "\n",
    "# bag of words matrix for training data\n",
    "training_data = count_vector.fit_transform(X_train)\n",
    "\n",
    "# bag of words matrix for training data\n",
    "testing_data = count_vector.transform(X_test)"
   ]
  },
  {
   "cell_type": "markdown",
   "metadata": {},
   "source": [
    "#### Creating the model - Naive Bayes Classifier\n",
    "\n",
    "Note that there are different Naive Bayes algorithms available in sklearn. Another commonly used one is Gaussian Naive Bayes which is useful for continuous attributes."
   ]
  },
  {
   "cell_type": "code",
   "execution_count": 79,
   "metadata": {},
   "outputs": [
    {
     "data": {
      "text/plain": [
       "MultinomialNB(alpha=1.0, class_prior=None, fit_prior=True)"
      ]
     },
     "execution_count": 79,
     "metadata": {},
     "output_type": "execute_result"
    }
   ],
   "source": [
    "from sklearn.naive_bayes import MultinomialNB \n",
    "naive_bayes = MultinomialNB()\n",
    "naive_bayes.fit(training_data,y_train)"
   ]
  },
  {
   "cell_type": "code",
   "execution_count": 80,
   "metadata": {},
   "outputs": [],
   "source": [
    "predictions = naive_bayes.predict(testing_data)"
   ]
  },
  {
   "cell_type": "markdown",
   "metadata": {},
   "source": [
    "Accuracy: the ratio of correctly predicted observation to the total observations\n",
    "<br><br> $$\\text{Accuracy}=\\frac{\\text{TP+TN}}{\\text{TP+FP+FN+TN}}$$<br>\n",
    "\n",
    "Precision: the ratio of correctly predicted positive observations to the total predicted positive observations\n",
    "<br><br> $$\\text{Precision}=\\frac{\\text{TP}}{\\text{TP+FP}}$$<br>\n",
    "\n",
    "Recall: the ratio of correctly predicted positive observations to the all observations in actual class  \n",
    "<br><br> $$\\text{Recall}=\\frac{\\text{TP}}{\\text{TP+FN}}$$<br>\n",
    "\n",
    "F1: the weighted average of Precision and Recall\n",
    "- takes both false positives and false negatives into account\n",
    "- useful for uneven class distribution\n",
    "\n",
    "<br><br> $$\\text{F1}=\\frac{\\text{2*(Recall * Precision)}}{\\text{(Recall + Precision)}}$$<br>"
   ]
  },
  {
   "cell_type": "code",
   "execution_count": 82,
   "metadata": {},
   "outputs": [
    {
     "name": "stdout",
     "output_type": "stream",
     "text": [
<<<<<<< HEAD
      "Accuracy score: 0.9919282511210762\n",
      "Precision score: 0.9830508474576272\n",
      "Recall score: 0.943089430894309\n",
      "F1 score: 0.9626556016597511\n"
=======
      "Accuracy score: 0.9856502242152466\n",
      "Precision score: 0.967741935483871\n",
      "Recall score: 0.9316770186335404\n",
      "F1 score: 0.949367088607595\n"
>>>>>>> 896565d87dd31a246ff5d984c2a76b1a0e7dd169
     ]
    }
   ],
   "source": [
    "from sklearn.metrics import accuracy_score, precision_score, recall_score, f1_score\n",
    "print('Accuracy score: {}'.format(accuracy_score(y_test, predictions)))\n",
    "print('Precision score: {}'.format(precision_score(y_test, predictions)))\n",
    "print('Recall score: {}'.format(recall_score(y_test, predictions)))\n",
    "print('F1 score: {}'.format(f1_score(y_test, predictions)))"
   ]
  },
  {
   "cell_type": "markdown",
   "metadata": {},
   "source": [
    "#### A confusion matrix is useful for visualizing your classifier."
   ]
  },
  {
   "cell_type": "code",
   "execution_count": 18,
   "metadata": {},
   "outputs": [
    {
     "data": {
      "image/png": "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\n",
      "text/plain": [
       "<Figure size 576x576 with 2 Axes>"
      ]
     },
     "metadata": {
      "needs_background": "light"
     },
     "output_type": "display_data"
    }
   ],
   "source": [
    "from sklearn.metrics import confusion_matrix\n",
    "\n",
    "conf_mat = confusion_matrix(y_test, predictions)\n",
    "fig, ax = plt.subplots(figsize=(8,8))\n",
    "sns.heatmap(conf_mat, annot=True, cmap=\"Blues\", fmt='d',\n",
    "            xticklabels=['ham','spam'], \n",
    "            yticklabels=['ham','spam'])\n",
    "plt.ylabel('Actual')\n",
    "plt.xlabel('Predicted')\n",
    "plt.title(\"CONFUSION MATRIX - naive bayes\\n\", size=16);"
   ]
  },
  {
   "cell_type": "markdown",
   "metadata": {},
   "source": [
    "## Logistic Regression\n",
    "- Loading dataset\n",
    "- Visualization\n",
    "- Preprocessing\n",
    "- Model creation\n",
    "- Evaluation"
   ]
  },
  {
   "cell_type": "markdown",
   "metadata": {},
   "source": [
    "#### Loading the dataset"
   ]
  },
  {
   "cell_type": "code",
   "execution_count": 19,
   "metadata": {},
   "outputs": [],
   "source": [
    "df = pd.read_csv('data/financial_product_complaints.csv', index_col = 0)"
   ]
  },
  {
   "cell_type": "code",
   "execution_count": 20,
   "metadata": {},
   "outputs": [
    {
     "data": {
      "text/html": [
       "<div>\n",
       "<style scoped>\n",
       "    .dataframe tbody tr th:only-of-type {\n",
       "        vertical-align: middle;\n",
       "    }\n",
       "\n",
       "    .dataframe tbody tr th {\n",
       "        vertical-align: top;\n",
       "    }\n",
       "\n",
       "    .dataframe thead th {\n",
       "        text-align: right;\n",
       "    }\n",
       "</style>\n",
       "<table border=\"1\" class=\"dataframe\">\n",
       "  <thead>\n",
       "    <tr style=\"text-align: right;\">\n",
       "      <th></th>\n",
       "      <th>Product</th>\n",
       "      <th>Consumer_complaint</th>\n",
       "    </tr>\n",
       "  </thead>\n",
       "  <tbody>\n",
       "    <tr>\n",
       "      <td>0</td>\n",
       "      <td>Credit reporting, repair, or other</td>\n",
       "      <td>it is the repeated fraud attempt from experian...</td>\n",
       "    </tr>\n",
       "    <tr>\n",
       "      <td>1</td>\n",
       "      <td>Debt collection</td>\n",
       "      <td>We received multiple voice mails from Weltman,...</td>\n",
       "    </tr>\n",
       "    <tr>\n",
       "      <td>2</td>\n",
       "      <td>Debt collection</td>\n",
       "      <td>Deactivated my car whenever I was a day late m...</td>\n",
       "    </tr>\n",
       "    <tr>\n",
       "      <td>3</td>\n",
       "      <td>Student loan</td>\n",
       "      <td>My complaint is regarding my Student Loan Serv...</td>\n",
       "    </tr>\n",
       "    <tr>\n",
       "      <td>4</td>\n",
       "      <td>Debt collection</td>\n",
       "      <td>Syndicated Office Systems is currently reporti...</td>\n",
       "    </tr>\n",
       "  </tbody>\n",
       "</table>\n",
       "</div>"
      ],
      "text/plain": [
       "                              Product  \\\n",
       "0  Credit reporting, repair, or other   \n",
       "1                     Debt collection   \n",
       "2                     Debt collection   \n",
       "3                        Student loan   \n",
       "4                     Debt collection   \n",
       "\n",
       "                                  Consumer_complaint  \n",
       "0  it is the repeated fraud attempt from experian...  \n",
       "1  We received multiple voice mails from Weltman,...  \n",
       "2  Deactivated my car whenever I was a day late m...  \n",
       "3  My complaint is regarding my Student Loan Serv...  \n",
       "4  Syndicated Office Systems is currently reporti...  "
      ]
     },
     "execution_count": 20,
     "metadata": {},
     "output_type": "execute_result"
    }
   ],
   "source": [
    "df.head()"
   ]
  },
  {
   "cell_type": "code",
   "execution_count": 21,
   "metadata": {},
   "outputs": [
    {
     "data": {
      "text/html": [
       "<div>\n",
       "<style scoped>\n",
       "    .dataframe tbody tr th:only-of-type {\n",
       "        vertical-align: middle;\n",
       "    }\n",
       "\n",
       "    .dataframe tbody tr th {\n",
       "        vertical-align: top;\n",
       "    }\n",
       "\n",
       "    .dataframe thead th {\n",
       "        text-align: right;\n",
       "    }\n",
       "</style>\n",
       "<table border=\"1\" class=\"dataframe\">\n",
       "  <thead>\n",
       "    <tr style=\"text-align: right;\">\n",
       "      <th></th>\n",
       "      <th>0</th>\n",
       "    </tr>\n",
       "  </thead>\n",
       "  <tbody>\n",
       "    <tr>\n",
       "      <td>0</td>\n",
       "      <td>Credit reporting, repair, or other</td>\n",
       "    </tr>\n",
       "    <tr>\n",
       "      <td>1</td>\n",
       "      <td>Debt collection</td>\n",
       "    </tr>\n",
       "    <tr>\n",
       "      <td>2</td>\n",
       "      <td>Student loan</td>\n",
       "    </tr>\n",
       "    <tr>\n",
       "      <td>3</td>\n",
       "      <td>Checking or savings account</td>\n",
       "    </tr>\n",
       "    <tr>\n",
       "      <td>4</td>\n",
       "      <td>Mortgage</td>\n",
       "    </tr>\n",
       "    <tr>\n",
       "      <td>5</td>\n",
       "      <td>Payday loan, title loan, or personal loan</td>\n",
       "    </tr>\n",
       "    <tr>\n",
       "      <td>6</td>\n",
       "      <td>Vehicle loan or lease</td>\n",
       "    </tr>\n",
       "    <tr>\n",
       "      <td>7</td>\n",
       "      <td>Credit card or prepaid card</td>\n",
       "    </tr>\n",
       "    <tr>\n",
       "      <td>8</td>\n",
       "      <td>Bank account or service</td>\n",
       "    </tr>\n",
       "    <tr>\n",
       "      <td>9</td>\n",
       "      <td>Consumer Loan</td>\n",
       "    </tr>\n",
       "    <tr>\n",
       "      <td>10</td>\n",
       "      <td>Money transfer, virtual currency, or money ser...</td>\n",
       "    </tr>\n",
       "    <tr>\n",
       "      <td>11</td>\n",
       "      <td>Other financial service</td>\n",
       "    </tr>\n",
       "    <tr>\n",
       "      <td>12</td>\n",
       "      <td>Money transfers</td>\n",
       "    </tr>\n",
       "  </tbody>\n",
       "</table>\n",
       "</div>"
      ],
      "text/plain": [
       "                                                    0\n",
       "0                  Credit reporting, repair, or other\n",
       "1                                     Debt collection\n",
       "2                                        Student loan\n",
       "3                         Checking or savings account\n",
       "4                                            Mortgage\n",
       "5           Payday loan, title loan, or personal loan\n",
       "6                               Vehicle loan or lease\n",
       "7                         Credit card or prepaid card\n",
       "8                             Bank account or service\n",
       "9                                       Consumer Loan\n",
       "10  Money transfer, virtual currency, or money ser...\n",
       "11                            Other financial service\n",
       "12                                    Money transfers"
      ]
     },
     "execution_count": 21,
     "metadata": {},
     "output_type": "execute_result"
    }
   ],
   "source": [
    "pd.DataFrame(df.Product.unique())"
   ]
  },
  {
   "cell_type": "code",
   "execution_count": 22,
   "metadata": {},
   "outputs": [
    {
     "data": {
      "text/html": [
       "<div>\n",
       "<style scoped>\n",
       "    .dataframe tbody tr th:only-of-type {\n",
       "        vertical-align: middle;\n",
       "    }\n",
       "\n",
       "    .dataframe tbody tr th {\n",
       "        vertical-align: top;\n",
       "    }\n",
       "\n",
       "    .dataframe thead th {\n",
       "        text-align: right;\n",
       "    }\n",
       "</style>\n",
       "<table border=\"1\" class=\"dataframe\">\n",
       "  <thead>\n",
       "    <tr style=\"text-align: right;\">\n",
       "      <th></th>\n",
       "      <th>Product</th>\n",
       "      <th>category_id</th>\n",
       "    </tr>\n",
       "  </thead>\n",
       "  <tbody>\n",
       "    <tr>\n",
       "      <td>0</td>\n",
       "      <td>Credit reporting, repair, or other</td>\n",
       "      <td>0</td>\n",
       "    </tr>\n",
       "    <tr>\n",
       "      <td>1</td>\n",
       "      <td>Debt collection</td>\n",
       "      <td>1</td>\n",
       "    </tr>\n",
       "    <tr>\n",
       "      <td>3</td>\n",
       "      <td>Student loan</td>\n",
       "      <td>2</td>\n",
       "    </tr>\n",
       "    <tr>\n",
       "      <td>7</td>\n",
       "      <td>Checking or savings account</td>\n",
       "      <td>3</td>\n",
       "    </tr>\n",
       "    <tr>\n",
       "      <td>10</td>\n",
       "      <td>Mortgage</td>\n",
       "      <td>4</td>\n",
       "    </tr>\n",
       "    <tr>\n",
       "      <td>14</td>\n",
       "      <td>Payday loan, title loan, or personal loan</td>\n",
       "      <td>5</td>\n",
       "    </tr>\n",
       "    <tr>\n",
       "      <td>24</td>\n",
       "      <td>Vehicle loan or lease</td>\n",
       "      <td>6</td>\n",
       "    </tr>\n",
       "    <tr>\n",
       "      <td>47</td>\n",
       "      <td>Credit card or prepaid card</td>\n",
       "      <td>7</td>\n",
       "    </tr>\n",
       "    <tr>\n",
       "      <td>67</td>\n",
       "      <td>Bank account or service</td>\n",
       "      <td>8</td>\n",
       "    </tr>\n",
       "    <tr>\n",
       "      <td>70</td>\n",
       "      <td>Consumer Loan</td>\n",
       "      <td>9</td>\n",
       "    </tr>\n",
       "    <tr>\n",
       "      <td>118</td>\n",
       "      <td>Money transfer, virtual currency, or money ser...</td>\n",
       "      <td>10</td>\n",
       "    </tr>\n",
       "    <tr>\n",
       "      <td>128</td>\n",
       "      <td>Other financial service</td>\n",
       "      <td>11</td>\n",
       "    </tr>\n",
       "    <tr>\n",
       "      <td>1283</td>\n",
       "      <td>Money transfers</td>\n",
       "      <td>12</td>\n",
       "    </tr>\n",
       "  </tbody>\n",
       "</table>\n",
       "</div>"
      ],
      "text/plain": [
       "                                                Product  category_id\n",
       "0                    Credit reporting, repair, or other            0\n",
       "1                                       Debt collection            1\n",
       "3                                          Student loan            2\n",
       "7                           Checking or savings account            3\n",
       "10                                             Mortgage            4\n",
       "14            Payday loan, title loan, or personal loan            5\n",
       "24                                Vehicle loan or lease            6\n",
       "47                          Credit card or prepaid card            7\n",
       "67                              Bank account or service            8\n",
       "70                                        Consumer Loan            9\n",
       "118   Money transfer, virtual currency, or money ser...           10\n",
       "128                             Other financial service           11\n",
       "1283                                    Money transfers           12"
      ]
     },
     "execution_count": 22,
     "metadata": {},
     "output_type": "execute_result"
    }
   ],
   "source": [
    "# Create a new column 'category_id' with encoded categories \n",
    "df['category_id'] = df['Product'].factorize()[0]\n",
    "category_id_df = df[['Product', 'category_id']].drop_duplicates()\n",
    "\n",
    "\n",
    "category_id_df"
   ]
  },
  {
   "cell_type": "code",
   "execution_count": 23,
   "metadata": {},
   "outputs": [
    {
     "data": {
      "text/html": [
       "<div>\n",
       "<style scoped>\n",
       "    .dataframe tbody tr th:only-of-type {\n",
       "        vertical-align: middle;\n",
       "    }\n",
       "\n",
       "    .dataframe tbody tr th {\n",
       "        vertical-align: top;\n",
       "    }\n",
       "\n",
       "    .dataframe thead th {\n",
       "        text-align: right;\n",
       "    }\n",
       "</style>\n",
       "<table border=\"1\" class=\"dataframe\">\n",
       "  <thead>\n",
       "    <tr style=\"text-align: right;\">\n",
       "      <th></th>\n",
       "      <th>Product</th>\n",
       "      <th>Consumer_complaint</th>\n",
       "      <th>category_id</th>\n",
       "    </tr>\n",
       "  </thead>\n",
       "  <tbody>\n",
       "    <tr>\n",
       "      <td>0</td>\n",
       "      <td>Credit reporting, repair, or other</td>\n",
       "      <td>it is the repeated fraud attempt from experian...</td>\n",
       "      <td>0</td>\n",
       "    </tr>\n",
       "    <tr>\n",
       "      <td>1</td>\n",
       "      <td>Debt collection</td>\n",
       "      <td>We received multiple voice mails from Weltman,...</td>\n",
       "      <td>1</td>\n",
       "    </tr>\n",
       "    <tr>\n",
       "      <td>2</td>\n",
       "      <td>Debt collection</td>\n",
       "      <td>Deactivated my car whenever I was a day late m...</td>\n",
       "      <td>1</td>\n",
       "    </tr>\n",
       "    <tr>\n",
       "      <td>3</td>\n",
       "      <td>Student loan</td>\n",
       "      <td>My complaint is regarding my Student Loan Serv...</td>\n",
       "      <td>2</td>\n",
       "    </tr>\n",
       "    <tr>\n",
       "      <td>4</td>\n",
       "      <td>Debt collection</td>\n",
       "      <td>Syndicated Office Systems is currently reporti...</td>\n",
       "      <td>1</td>\n",
       "    </tr>\n",
       "  </tbody>\n",
       "</table>\n",
       "</div>"
      ],
      "text/plain": [
       "                              Product  \\\n",
       "0  Credit reporting, repair, or other   \n",
       "1                     Debt collection   \n",
       "2                     Debt collection   \n",
       "3                        Student loan   \n",
       "4                     Debt collection   \n",
       "\n",
       "                                  Consumer_complaint  category_id  \n",
       "0  it is the repeated fraud attempt from experian...            0  \n",
       "1  We received multiple voice mails from Weltman,...            1  \n",
       "2  Deactivated my car whenever I was a day late m...            1  \n",
       "3  My complaint is regarding my Student Loan Serv...            2  \n",
       "4  Syndicated Office Systems is currently reporti...            1  "
      ]
     },
     "execution_count": 23,
     "metadata": {},
     "output_type": "execute_result"
    }
   ],
   "source": [
    "# Dictionaries for future use\n",
    "category_to_id = dict(category_id_df.values)\n",
    "id_to_category = dict(category_id_df[['category_id', 'Product']].values)\n",
    "\n",
    "# New dataframe\n",
    "df.head()"
   ]
  },
  {
   "cell_type": "markdown",
   "metadata": {},
   "source": [
    "#### Text preprocessing\n",
    "- convert words to vectors\n",
    "- use TF-IDF to determine word importance\n",
    "\n",
    "__TF-IDF__ is the product of the __TF__ and __IDF__ scores of the term.<br><br> $$\\text{TF-IDF}=\\frac{\\text{TF}}{\\text{IDF}}$$<br>\n",
    "\n",
    "__Term Frequency :__ This summarizes how often a given word appears within a document.\n",
    "\n",
    "$$\\text{TF} = \\frac{\\text{Number of times the term appears in the doc}}{\\text{Total number of words in the doc}}$$<br><br>\n",
    "__Inverse Document Frequency:__ This downscales words that appear a lot across documents. A term has a high IDF score if it appears in a few documents. Conversely, if the term is very common among documents (i.e., “the”, “a”, “is”), the term would have a low IDF score.<br>\n",
    "\n",
    "$$\\text{IDF} = \\ln\\left(\\frac{\\text{Number of docs}}{\\text{Number docs the term appears in}} \\right)$$<br>"
   ]
  },
  {
   "cell_type": "code",
   "execution_count": 24,
   "metadata": {},
   "outputs": [],
   "source": [
    "from sklearn.feature_extraction.text import TfidfVectorizer"
   ]
  },
  {
   "cell_type": "markdown",
   "metadata": {},
   "source": [
    "__n-gram__ is a contiguous sequence of n items from a given sample of text \n",
    "\n",
    "__unigrams__ are single words\n",
    "\n",
    "__bigram__ are double words"
   ]
  },
  {
   "cell_type": "code",
   "execution_count": 25,
   "metadata": {},
   "outputs": [],
   "source": [
    "tfidf = TfidfVectorizer(sublinear_tf=True, min_df=5, ngram_range=(1, 2), stop_words='english')\n",
    "\n",
    "# use tfidf to transform complaints into vectors\n",
    "features = tfidf.fit_transform(df.Consumer_complaint).toarray()\n",
    "\n",
    "labels = df.category_id"
   ]
  },
  {
   "cell_type": "code",
   "execution_count": 26,
   "metadata": {},
   "outputs": [
    {
     "data": {
      "text/plain": [
       "(10000, 28342)"
      ]
     },
     "execution_count": 26,
     "metadata": {},
     "output_type": "execute_result"
    }
   ],
   "source": [
    "features.shape"
   ]
  },
  {
   "cell_type": "code",
   "execution_count": 27,
   "metadata": {},
   "outputs": [
    {
     "name": "stdout",
     "output_type": "stream",
     "text": [
      "\n",
      " Bank account or service: \n",
      "------------\n",
      "  * Most Correlated Unigrams are: bank, deposit, overdraft\n",
      "  * Most Correlated Bigrams are: overdraft fee, checking account, overdraft fees\n",
      "\n",
      " Checking or savings account: \n",
      "------------\n",
      "  * Most Correlated Unigrams are: deposited, checking, overdraft\n",
      "  * Most Correlated Bigrams are: debit card, savings account, checking account\n",
      "\n",
      " Consumer Loan: \n",
      "------------\n",
      "  * Most Correlated Unigrams are: dealer, vehicle, car\n",
      "  * Most Correlated Bigrams are: credit acceptance, leased vehicle, acceptance corp\n",
      "\n",
      " Credit card or prepaid card: \n",
      "------------\n",
      "  * Most Correlated Unigrams are: express, citi, card\n",
      "  * Most Correlated Bigrams are: synchrony bank, american express, credit card\n",
      "\n",
      " Credit reporting, repair, or other: \n",
      "------------\n",
      "  * Most Correlated Unigrams are: experian, report, equifax\n",
      "  * Most Correlated Bigrams are: credit bureaus, credit file, credit report\n",
      "\n",
      " Debt collection: \n",
      "------------\n",
      "  * Most Correlated Unigrams are: collect, collection, debt\n",
      "  * Most Correlated Bigrams are: debt collector, collection agency, collect debt\n",
      "\n",
      " Money transfer, virtual currency, or money service: \n",
      "------------\n",
      "  * Most Correlated Unigrams are: wire, paypal, coinbase\n",
      "  * Most Correlated Bigrams are: xxxx coinbase, coinbase xxxx, coinbase account\n",
      "\n",
      " Money transfers: \n",
      "------------\n",
      "  * Most Correlated Unigrams are: paypal, gram, moneygram\n",
      "  * Most Correlated Bigrams are: contacted paypal, money gram, money soon\n",
      "\n",
      " Mortgage: \n",
      "------------\n",
      "  * Most Correlated Unigrams are: escrow, modification, mortgage\n",
      "  * Most Correlated Bigrams are: mortgage company, mortgage payment, loan modification\n",
      "\n",
      " Other financial service: \n",
      "------------\n",
      "  * Most Correlated Unigrams are: authorizations, screwed, global\n",
      "  * Most Correlated Bigrams are: according usps, rate 11, check services\n",
      "\n",
      " Payday loan, title loan, or personal loan: \n",
      "------------\n",
      "  * Most Correlated Unigrams are: loan, loaned, payday\n",
      "  * Most Correlated Bigrams are: loan lending, payday loans, payday loan\n",
      "\n",
      " Student loan: \n",
      "------------\n",
      "  * Most Correlated Unigrams are: student, loans, navient\n",
      "  * Most Correlated Bigrams are: student loan, loan forgiveness, student loans\n",
      "\n",
      " Vehicle loan or lease: \n",
      "------------\n",
      "  * Most Correlated Unigrams are: santander, car, vehicle\n",
      "  * Most Correlated Bigrams are: consumer usa, gap insurance, santander consumer\n"
     ]
    }
   ],
   "source": [
    "from sklearn.feature_selection import chi2\n",
    "\n",
    "# Finding the three most correlated terms with each of the product categories\n",
    "N = 3\n",
    "for Product, category_id in sorted(category_to_id.items()):\n",
    "  features_chi2 = chi2(features, labels == category_id)\n",
    "  indices = np.argsort(features_chi2[0])\n",
    "  feature_names = np.array(tfidf.get_feature_names())[indices]\n",
    "  unigrams = [v for v in feature_names if len(v.split(' ')) == 1]\n",
    "  bigrams = [v for v in feature_names if len(v.split(' ')) == 2]\n",
    "  print(\"\\n %s:\" %(Product),'\\n------------')\n",
    "  print(\"  * Most Correlated Unigrams are: %s\" %(', '.join(unigrams[-N:])))\n",
    "  print(\"  * Most Correlated Bigrams are: %s\" %(', '.join(bigrams[-N:])))"
   ]
  },
  {
   "cell_type": "code",
   "execution_count": 28,
   "metadata": {},
   "outputs": [],
   "source": [
    "X = df['Consumer_complaint'] # complaint documents\n",
    "y = df['Product'] # Target labels we want to predict (13 different product types)\n",
    "\n",
    "#split the data into train and test sets\n",
    "X_train, X_test, y_train, y_test = train_test_split(X, y, test_size=0.25)"
   ]
  },
  {
   "cell_type": "code",
   "execution_count": 29,
   "metadata": {},
   "outputs": [],
   "source": [
    "from sklearn.linear_model import LogisticRegression\n",
    "from sklearn.model_selection import cross_val_score"
   ]
  },
  {
   "cell_type": "code",
   "execution_count": 30,
   "metadata": {},
   "outputs": [],
   "source": [
    "X_train, X_test, y_train, y_test,indices_train,indices_test = train_test_split(features, \n",
    "                                                               labels, \n",
    "                                                               df.index, test_size=0.20)\n",
    "model = LogisticRegression()\n",
    "model.fit(X_train, y_train)\n",
    "predictions = model.predict(X_test)"
   ]
  },
  {
   "cell_type": "code",
   "execution_count": 31,
   "metadata": {},
   "outputs": [
    {
     "name": "stdout",
     "output_type": "stream",
     "text": [
      "Accuracy score: 0.757\n"
     ]
    }
   ],
   "source": [
    "from sklearn.metrics import accuracy_score, precision_score, recall_score, f1_score\n",
    "print('Accuracy score: {}'.format(accuracy_score(y_test, predictions)))"
   ]
  },
  {
   "cell_type": "code",
   "execution_count": 32,
   "metadata": {},
   "outputs": [
    {
     "data": {
      "image/png": "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\n",
      "text/plain": [
       "<Figure size 576x576 with 2 Axes>"
      ]
     },
     "metadata": {
      "needs_background": "light"
     },
     "output_type": "display_data"
    }
   ],
   "source": [
    "from sklearn.metrics import confusion_matrix\n",
    "\n",
    "conf_mat = confusion_matrix(y_test, predictions)\n",
    "fig, ax = plt.subplots(figsize=(8,8))\n",
    "sns.heatmap(conf_mat, annot=True, cmap=\"Blues\", fmt='d',\n",
    "            xticklabels=category_id_df.Product.values, \n",
    "            yticklabels=category_id_df.Product.values)\n",
    "plt.ylabel('Actual')\n",
    "plt.xlabel('Predicted')\n",
    "plt.title(\"CONFUSION MATRIX - logistic regression\\n\", size=16);"
   ]
  }
 ],
 "metadata": {
  "kernelspec": {
   "display_name": "Python 3",
   "language": "python",
   "name": "python3"
  },
  "language_info": {
   "codemirror_mode": {
    "name": "ipython",
    "version": 3
   },
   "file_extension": ".py",
   "mimetype": "text/x-python",
   "name": "python",
   "nbconvert_exporter": "python",
   "pygments_lexer": "ipython3",
   "version": "3.7.4"
  }
 },
 "nbformat": 4,
 "nbformat_minor": 2
}
